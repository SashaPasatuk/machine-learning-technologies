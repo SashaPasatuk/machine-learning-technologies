{
 "cells": [
  {
   "cell_type": "code",
   "execution_count": 1,
   "metadata": {},
   "outputs": [],
   "source": [
    "import numpy as np\n",
    "import pandas as pd\n",
    "import seaborn as sns\n",
    "import matplotlib.pyplot as plt"
   ]
  },
  {
   "cell_type": "code",
   "execution_count": 2,
   "metadata": {},
   "outputs": [],
   "source": [
    "data = pd.read_csv('Stars.csv', sep=\",\")"
   ]
  },
  {
   "cell_type": "code",
   "execution_count": 3,
   "metadata": {},
   "outputs": [
    {
     "data": {
      "text/plain": [
       "(240, 7)"
      ]
     },
     "execution_count": 3,
     "metadata": {},
     "output_type": "execute_result"
    }
   ],
   "source": [
    "data.shape"
   ]
  },
  {
   "cell_type": "code",
   "execution_count": 4,
   "metadata": {},
   "outputs": [
    {
     "data": {
      "text/html": [
       "<div>\n",
       "<style scoped>\n",
       "    .dataframe tbody tr th:only-of-type {\n",
       "        vertical-align: middle;\n",
       "    }\n",
       "\n",
       "    .dataframe tbody tr th {\n",
       "        vertical-align: top;\n",
       "    }\n",
       "\n",
       "    .dataframe thead th {\n",
       "        text-align: right;\n",
       "    }\n",
       "</style>\n",
       "<table border=\"1\" class=\"dataframe\">\n",
       "  <thead>\n",
       "    <tr style=\"text-align: right;\">\n",
       "      <th></th>\n",
       "      <th>Temperature</th>\n",
       "      <th>L</th>\n",
       "      <th>R</th>\n",
       "      <th>A_M</th>\n",
       "      <th>Color</th>\n",
       "      <th>Spectral_Class</th>\n",
       "      <th>Type</th>\n",
       "    </tr>\n",
       "  </thead>\n",
       "  <tbody>\n",
       "    <tr>\n",
       "      <th>0</th>\n",
       "      <td>0.029663</td>\n",
       "      <td>2.731275e-09</td>\n",
       "      <td>0.000083</td>\n",
       "      <td>0.876798</td>\n",
       "      <td>Red</td>\n",
       "      <td>M</td>\n",
       "      <td>0</td>\n",
       "    </tr>\n",
       "    <tr>\n",
       "      <th>1</th>\n",
       "      <td>0.028980</td>\n",
       "      <td>4.944550e-10</td>\n",
       "      <td>0.000075</td>\n",
       "      <td>0.891807</td>\n",
       "      <td>Red</td>\n",
       "      <td>M</td>\n",
       "      <td>0</td>\n",
       "    </tr>\n",
       "    <tr>\n",
       "      <th>2</th>\n",
       "      <td>0.017367</td>\n",
       "      <td>2.590003e-10</td>\n",
       "      <td>0.000048</td>\n",
       "      <td>0.957473</td>\n",
       "      <td>Red</td>\n",
       "      <td>M</td>\n",
       "      <td>0</td>\n",
       "    </tr>\n",
       "    <tr>\n",
       "      <th>3</th>\n",
       "      <td>0.022622</td>\n",
       "      <td>1.412729e-10</td>\n",
       "      <td>0.000078</td>\n",
       "      <td>0.893371</td>\n",
       "      <td>Red</td>\n",
       "      <td>M</td>\n",
       "      <td>0</td>\n",
       "    </tr>\n",
       "    <tr>\n",
       "      <th>4</th>\n",
       "      <td>0.000000</td>\n",
       "      <td>6.828189e-11</td>\n",
       "      <td>0.000049</td>\n",
       "      <td>1.000000</td>\n",
       "      <td>Red</td>\n",
       "      <td>M</td>\n",
       "      <td>0</td>\n",
       "    </tr>\n",
       "  </tbody>\n",
       "</table>\n",
       "</div>"
      ],
      "text/plain": [
       "   Temperature             L         R       A_M Color Spectral_Class  Type\n",
       "0     0.029663  2.731275e-09  0.000083  0.876798   Red              M     0\n",
       "1     0.028980  4.944550e-10  0.000075  0.891807   Red              M     0\n",
       "2     0.017367  2.590003e-10  0.000048  0.957473   Red              M     0\n",
       "3     0.022622  1.412729e-10  0.000078  0.893371   Red              M     0\n",
       "4     0.000000  6.828189e-11  0.000049  1.000000   Red              M     0"
      ]
     },
     "execution_count": 4,
     "metadata": {},
     "output_type": "execute_result"
    }
   ],
   "source": [
    "from sklearn.preprocessing import MinMaxScaler\n",
    "# MinMax масштабирование\n",
    "sc1 = MinMaxScaler()\n",
    "for item in ['Temperature', 'L', 'R', 'A_M']:\n",
    "    data.loc[:, item] = sc1.fit_transform(data[[item]])\n",
    "data.head()"
   ]
  },
  {
   "cell_type": "code",
   "execution_count": 5,
   "metadata": {},
   "outputs": [
    {
     "data": {
      "text/plain": [
       "array(['Red', 'Blue White', 'White', 'Yellowish White', 'Blue white',\n",
       "       'Pale yellow orange', 'Blue', 'Blue-white', 'Whitish',\n",
       "       'yellow-white', 'Orange', 'White-Yellow', 'white', 'yellowish',\n",
       "       'Yellowish', 'Orange-Red', 'Blue-White'], dtype=object)"
      ]
     },
     "execution_count": 5,
     "metadata": {},
     "output_type": "execute_result"
    }
   ],
   "source": [
    "from sklearn.preprocessing import LabelEncoder, OneHotEncoder\n",
    "le = LabelEncoder()\n",
    "color_enc = le.fit_transform(data['Color'])\n",
    "data['Color'].unique()"
   ]
  },
  {
   "cell_type": "code",
   "execution_count": 6,
   "metadata": {},
   "outputs": [
    {
     "data": {
      "text/plain": [
       "array([ 0,  1,  2,  3,  4,  5,  6,  7,  8,  9, 10, 11, 12, 13, 14, 15, 16])"
      ]
     },
     "execution_count": 6,
     "metadata": {},
     "output_type": "execute_result"
    }
   ],
   "source": [
    "np.unique(color_enc)"
   ]
  },
  {
   "cell_type": "code",
   "execution_count": 7,
   "metadata": {},
   "outputs": [
    {
     "data": {
      "text/plain": [
       "array(['Blue', 'Blue White', 'Blue white', 'Blue-White', 'Blue-white',\n",
       "       'Orange', 'Orange-Red', 'Pale yellow orange', 'Red', 'White',\n",
       "       'White-Yellow', 'Whitish', 'Yellowish', 'Yellowish White', 'white',\n",
       "       'yellow-white', 'yellowish'], dtype=object)"
      ]
     },
     "execution_count": 7,
     "metadata": {},
     "output_type": "execute_result"
    }
   ],
   "source": [
    "le.inverse_transform([0, 1, 2, 3, 4, 5, 6, 7, 8, 9, 10, 11, 12, 13, 14, 15, 16])"
   ]
  },
  {
   "cell_type": "code",
   "execution_count": 8,
   "metadata": {},
   "outputs": [
    {
     "data": {
      "text/plain": [
       "array(['M', 'B', 'A', 'F', 'O', 'K', 'G'], dtype=object)"
      ]
     },
     "execution_count": 8,
     "metadata": {},
     "output_type": "execute_result"
    }
   ],
   "source": [
    "sp_enc = le.fit_transform(data['Spectral_Class'])\n",
    "data['Spectral_Class'].unique()"
   ]
  },
  {
   "cell_type": "code",
   "execution_count": 9,
   "metadata": {},
   "outputs": [
    {
     "data": {
      "text/plain": [
       "array([0, 1, 2, 3, 4, 5, 6])"
      ]
     },
     "execution_count": 9,
     "metadata": {},
     "output_type": "execute_result"
    }
   ],
   "source": [
    "np.unique(sp_enc)"
   ]
  },
  {
   "cell_type": "code",
   "execution_count": 10,
   "metadata": {},
   "outputs": [
    {
     "data": {
      "text/plain": [
       "array(['A', 'B', 'F', 'G', 'K', 'M', 'O'], dtype=object)"
      ]
     },
     "execution_count": 10,
     "metadata": {},
     "output_type": "execute_result"
    }
   ],
   "source": [
    "le.inverse_transform([0, 1, 2, 3, 4, 5, 6,])"
   ]
  },
  {
   "cell_type": "code",
   "execution_count": 11,
   "metadata": {},
   "outputs": [],
   "source": [
    "data['Color']=color_enc\n",
    "data['Spectral_Class']=sp_enc"
   ]
  },
  {
   "cell_type": "code",
   "execution_count": 12,
   "metadata": {},
   "outputs": [
    {
     "data": {
      "text/html": [
       "<div>\n",
       "<style scoped>\n",
       "    .dataframe tbody tr th:only-of-type {\n",
       "        vertical-align: middle;\n",
       "    }\n",
       "\n",
       "    .dataframe tbody tr th {\n",
       "        vertical-align: top;\n",
       "    }\n",
       "\n",
       "    .dataframe thead th {\n",
       "        text-align: right;\n",
       "    }\n",
       "</style>\n",
       "<table border=\"1\" class=\"dataframe\">\n",
       "  <thead>\n",
       "    <tr style=\"text-align: right;\">\n",
       "      <th></th>\n",
       "      <th>Temperature</th>\n",
       "      <th>L</th>\n",
       "      <th>R</th>\n",
       "      <th>A_M</th>\n",
       "      <th>Color</th>\n",
       "      <th>Spectral_Class</th>\n",
       "      <th>Type</th>\n",
       "    </tr>\n",
       "  </thead>\n",
       "  <tbody>\n",
       "    <tr>\n",
       "      <th>0</th>\n",
       "      <td>0.029663</td>\n",
       "      <td>2.731275e-09</td>\n",
       "      <td>0.000083</td>\n",
       "      <td>0.876798</td>\n",
       "      <td>8</td>\n",
       "      <td>5</td>\n",
       "      <td>0</td>\n",
       "    </tr>\n",
       "    <tr>\n",
       "      <th>1</th>\n",
       "      <td>0.028980</td>\n",
       "      <td>4.944550e-10</td>\n",
       "      <td>0.000075</td>\n",
       "      <td>0.891807</td>\n",
       "      <td>8</td>\n",
       "      <td>5</td>\n",
       "      <td>0</td>\n",
       "    </tr>\n",
       "    <tr>\n",
       "      <th>2</th>\n",
       "      <td>0.017367</td>\n",
       "      <td>2.590003e-10</td>\n",
       "      <td>0.000048</td>\n",
       "      <td>0.957473</td>\n",
       "      <td>8</td>\n",
       "      <td>5</td>\n",
       "      <td>0</td>\n",
       "    </tr>\n",
       "    <tr>\n",
       "      <th>3</th>\n",
       "      <td>0.022622</td>\n",
       "      <td>1.412729e-10</td>\n",
       "      <td>0.000078</td>\n",
       "      <td>0.893371</td>\n",
       "      <td>8</td>\n",
       "      <td>5</td>\n",
       "      <td>0</td>\n",
       "    </tr>\n",
       "    <tr>\n",
       "      <th>4</th>\n",
       "      <td>0.000000</td>\n",
       "      <td>6.828189e-11</td>\n",
       "      <td>0.000049</td>\n",
       "      <td>1.000000</td>\n",
       "      <td>8</td>\n",
       "      <td>5</td>\n",
       "      <td>0</td>\n",
       "    </tr>\n",
       "  </tbody>\n",
       "</table>\n",
       "</div>"
      ],
      "text/plain": [
       "   Temperature             L         R       A_M  Color  Spectral_Class  Type\n",
       "0     0.029663  2.731275e-09  0.000083  0.876798      8               5     0\n",
       "1     0.028980  4.944550e-10  0.000075  0.891807      8               5     0\n",
       "2     0.017367  2.590003e-10  0.000048  0.957473      8               5     0\n",
       "3     0.022622  1.412729e-10  0.000078  0.893371      8               5     0\n",
       "4     0.000000  6.828189e-11  0.000049  1.000000      8               5     0"
      ]
     },
     "execution_count": 12,
     "metadata": {},
     "output_type": "execute_result"
    }
   ],
   "source": [
    "data.head()"
   ]
  },
  {
   "cell_type": "markdown",
   "metadata": {},
   "source": [
    "### Разделение выборки на обучающую и тестовую"
   ]
  },
  {
   "cell_type": "code",
   "execution_count": 13,
   "metadata": {},
   "outputs": [],
   "source": [
    "from sklearn.model_selection import train_test_split\n",
    "#data_train, data_test = train_test_split(data, random_state=1)\n",
    "data_train, data_test, data_y_train, data_y_test = train_test_split(data[['Temperature', 'L', 'R', 'A_M', 'Color', 'Spectral_Class']], data['Type'], random_state=1)"
   ]
  },
  {
   "cell_type": "code",
   "execution_count": 14,
   "metadata": {},
   "outputs": [
    {
     "data": {
      "text/plain": [
       "((60, 6), (60,))"
      ]
     },
     "execution_count": 14,
     "metadata": {},
     "output_type": "execute_result"
    }
   ],
   "source": [
    "# Размер тестовой выборки\n",
    "data_test.shape, data_y_test.shape"
   ]
  },
  {
   "cell_type": "code",
   "execution_count": 15,
   "metadata": {},
   "outputs": [
    {
     "data": {
      "text/plain": [
       "((180, 6), (180,))"
      ]
     },
     "execution_count": 15,
     "metadata": {},
     "output_type": "execute_result"
    }
   ],
   "source": [
    "# Размер обучающей выборки\n",
    "data_train.shape, data_y_train.shape"
   ]
  },
  {
   "cell_type": "code",
   "execution_count": 16,
   "metadata": {},
   "outputs": [],
   "source": [
    "from typing import Dict, Tuple\n",
    "def class_proportions(array: np.ndarray) -> Dict[int, Tuple[int, float]]:\n",
    "    \"\"\"\n",
    "    Вычисляет пропорции классов\n",
    "    array - массив, содержащий метки классов\n",
    "    \"\"\"\n",
    "    # Получение меток классов и количества меток каждого класса \n",
    "    labels, counts = np.unique(array, return_counts=True)\n",
    "    # Превращаем количество меток в процент их встречаемости\n",
    "    # делим количество меток каждого класса на общее количество меток\n",
    "    counts_perc = counts/array.size\n",
    "    # Теперь sum(counts_perc)==1.0\n",
    "    # Создаем результирующий словарь,\n",
    "    # ключом словаря явлется метка класса, \n",
    "    # а значением словаря процент встречаемости метки\n",
    "    res = dict()\n",
    "    for label, count2 in zip(labels, zip(counts, counts_perc)):\n",
    "        res[label] = count2\n",
    "    return res\n",
    "\n",
    "def print_class_proportions(array: np.ndarray):\n",
    "    \"\"\"\n",
    "    Вывод пропорций классов\n",
    "    \"\"\"\n",
    "    proportions = class_proportions(array)\n",
    "    if len(proportions)>0:\n",
    "        print('Метка \\t Количество \\t Процент встречаемости')\n",
    "    for i in proportions:\n",
    "        val, val_perc = proportions[i]\n",
    "        val_perc_100 = round(val_perc * 100, 2)\n",
    "        print('{} \\t {} \\t \\t {}%'.format(i, val, val_perc_100))"
   ]
  },
  {
   "cell_type": "code",
   "execution_count": 17,
   "metadata": {},
   "outputs": [
    {
     "name": "stdout",
     "output_type": "stream",
     "text": [
      "Метка \t Количество \t Процент встречаемости\n",
      "0 \t 40 \t \t 16.67%\n",
      "1 \t 40 \t \t 16.67%\n",
      "2 \t 40 \t \t 16.67%\n",
      "3 \t 40 \t \t 16.67%\n",
      "4 \t 40 \t \t 16.67%\n",
      "5 \t 40 \t \t 16.67%\n"
     ]
    }
   ],
   "source": [
    "print_class_proportions(data['Type'])"
   ]
  },
  {
   "cell_type": "code",
   "execution_count": 18,
   "metadata": {},
   "outputs": [
    {
     "name": "stdout",
     "output_type": "stream",
     "text": [
      "Метка \t Количество \t Процент встречаемости\n",
      "0 \t 31 \t \t 17.22%\n",
      "1 \t 31 \t \t 17.22%\n",
      "2 \t 30 \t \t 16.67%\n",
      "3 \t 26 \t \t 14.44%\n",
      "4 \t 34 \t \t 18.89%\n",
      "5 \t 28 \t \t 15.56%\n"
     ]
    }
   ],
   "source": [
    "# Для обучающей выборки\n",
    "print_class_proportions(data_y_train)"
   ]
  },
  {
   "cell_type": "code",
   "execution_count": 19,
   "metadata": {},
   "outputs": [
    {
     "name": "stdout",
     "output_type": "stream",
     "text": [
      "Метка \t Количество \t Процент встречаемости\n",
      "0 \t 9 \t \t 15.0%\n",
      "1 \t 9 \t \t 15.0%\n",
      "2 \t 10 \t \t 16.67%\n",
      "3 \t 14 \t \t 23.33%\n",
      "4 \t 6 \t \t 10.0%\n",
      "5 \t 12 \t \t 20.0%\n"
     ]
    }
   ],
   "source": [
    "# Для тестовой выборки\n",
    "print_class_proportions(data_y_test)"
   ]
  },
  {
   "cell_type": "markdown",
   "metadata": {},
   "source": [
    "### Построение модели на основе метода К ближайших соседей"
   ]
  },
  {
   "cell_type": "code",
   "execution_count": 20,
   "metadata": {},
   "outputs": [
    {
     "data": {
      "text/plain": [
       "(60,\n",
       " array([4, 1, 2, 3, 4, 0, 2, 2, 5, 2, 4, 0, 1, 2, 2, 4, 5, 0, 2, 4, 5, 5,\n",
       "        4, 4, 4, 4, 0, 0, 2, 2, 2, 4, 2, 2, 4, 2, 3, 1, 4, 5, 1, 2, 5, 2,\n",
       "        0, 2, 1, 2, 0, 5, 1, 0, 2, 5, 2, 2, 1, 0, 1, 1], dtype=int64))"
      ]
     },
     "execution_count": 20,
     "metadata": {},
     "output_type": "execute_result"
    }
   ],
   "source": [
    "from sklearn.neighbors import KNeighborsClassifier\n",
    "# 10 ближайших соседа\n",
    "cl1_1 = KNeighborsClassifier(n_neighbors=10)\n",
    "cl1_1.fit(data_train, data_y_train)\n",
    "target1_1 = cl1_1.predict(data_test)\n",
    "len(target1_1), target1_1"
   ]
  },
  {
   "cell_type": "markdown",
   "metadata": {},
   "source": [
    "### Метрики качества классификации\n",
    "#### 1) Accuracy"
   ]
  },
  {
   "cell_type": "code",
   "execution_count": 21,
   "metadata": {},
   "outputs": [
    {
     "data": {
      "text/plain": [
       "0.7333333333333333"
      ]
     },
     "execution_count": 21,
     "metadata": {},
     "output_type": "execute_result"
    }
   ],
   "source": [
    "\n",
    "from sklearn.metrics import accuracy_score, balanced_accuracy_score\n",
    "accuracy_score(data_y_test, target1_1)"
   ]
  },
  {
   "cell_type": "code",
   "execution_count": 22,
   "metadata": {},
   "outputs": [],
   "source": [
    "def accuracy_score_for_classes(\n",
    "    y_true: np.ndarray, \n",
    "    y_pred: np.ndarray) -> Dict[int, float]:\n",
    "    \"\"\"\n",
    "    Вычисление метрики accuracy для каждого класса\n",
    "    y_true - истинные значения классов\n",
    "    y_pred - предсказанные значения классов\n",
    "    Возвращает словарь: ключ - метка класса, \n",
    "    значение - Accuracy для данного класса\n",
    "    \"\"\"\n",
    "    # Для удобства фильтрации сформируем Pandas DataFrame \n",
    "    d = {'t': y_true, 'p': y_pred}\n",
    "    df = pd.DataFrame(data=d)\n",
    "    # Метки классов\n",
    "    classes = np.unique(y_true)\n",
    "    # Результирующий словарь\n",
    "    res = dict()\n",
    "    # Перебор меток классов\n",
    "    for c in classes:\n",
    "        # отфильтруем данные, которые соответствуют \n",
    "        # текущей метке класса в истинных значениях\n",
    "        temp_data_flt = df[df['t']==c]\n",
    "        # расчет accuracy для заданной метки класса\n",
    "        temp_acc = accuracy_score(\n",
    "            temp_data_flt['t'].values, \n",
    "            temp_data_flt['p'].values)\n",
    "        # сохранение результата в словарь\n",
    "        res[c] = temp_acc\n",
    "    return res\n",
    "\n",
    "def print_accuracy_score_for_classes(\n",
    "    y_true: np.ndarray, \n",
    "    y_pred: np.ndarray):\n",
    "    \"\"\"\n",
    "    Вывод метрики accuracy для каждого класса\n",
    "    \"\"\"\n",
    "    accs = accuracy_score_for_classes(y_true, y_pred)\n",
    "    if len(accs)>0:\n",
    "        print('Метка \\t Accuracy')\n",
    "    for i in accs:\n",
    "        print('{} \\t {}'.format(i, accs[i]))"
   ]
  },
  {
   "cell_type": "code",
   "execution_count": 23,
   "metadata": {},
   "outputs": [
    {
     "name": "stdout",
     "output_type": "stream",
     "text": [
      "Метка \t Accuracy\n",
      "0 \t 1.0\n",
      "1 \t 1.0\n",
      "2 \t 1.0\n",
      "3 \t 0.14285714285714285\n",
      "4 \t 1.0\n",
      "5 \t 0.6666666666666666\n"
     ]
    }
   ],
   "source": [
    "print_accuracy_score_for_classes(data_y_test, target1_1)"
   ]
  },
  {
   "cell_type": "code",
   "execution_count": 24,
   "metadata": {},
   "outputs": [],
   "source": [
    "# Конвертация целевого признака в бинарный\n",
    "def convert_target_to_binary(array:np.ndarray, target:int) -> np.ndarray:\n",
    "    # Если целевой признак совпадает с указанным, то 1 иначе 0\n",
    "    res = [1 if x==target else 0 for x in array]\n",
    "    return res"
   ]
  },
  {
   "cell_type": "code",
   "execution_count": 25,
   "metadata": {},
   "outputs": [
    {
     "data": {
      "text/plain": [
       "[(5, 0),\n",
       " (2, 1),\n",
       " (4, 0),\n",
       " (5, 0),\n",
       " (5, 0),\n",
       " (4, 0),\n",
       " (0, 0),\n",
       " (5, 0),\n",
       " (4, 0),\n",
       " (3, 0)]"
      ]
     },
     "execution_count": 25,
     "metadata": {},
     "output_type": "execute_result"
    }
   ],
   "source": [
    "# Если целевой признак ==2, \n",
    "# то будем считать этот случай 1 в бинарном признаке\n",
    "bin_data_y_train = convert_target_to_binary(data_y_train, 2)\n",
    "list(zip(data_y_train, bin_data_y_train))[:10]"
   ]
  },
  {
   "cell_type": "code",
   "execution_count": 26,
   "metadata": {},
   "outputs": [
    {
     "data": {
      "text/plain": [
       "[(4, 0),\n",
       " (1, 0),\n",
       " (2, 1),\n",
       " (3, 0),\n",
       " (3, 0),\n",
       " (0, 0),\n",
       " (3, 0),\n",
       " (2, 1),\n",
       " (5, 0),\n",
       " (5, 0)]"
      ]
     },
     "execution_count": 26,
     "metadata": {},
     "output_type": "execute_result"
    }
   ],
   "source": [
    "bin_data_y_test = convert_target_to_binary(data_y_test, 2)\n",
    "list(zip(data_y_test, bin_data_y_test))[:10]"
   ]
  },
  {
   "cell_type": "code",
   "execution_count": 27,
   "metadata": {},
   "outputs": [],
   "source": [
    "# Конвертация предсказанных признаков\n",
    "bin_target1_1 = convert_target_to_binary(target1_1, 2)"
   ]
  },
  {
   "cell_type": "code",
   "execution_count": 28,
   "metadata": {},
   "outputs": [
    {
     "data": {
      "text/plain": [
       "0.9"
      ]
     },
     "execution_count": 28,
     "metadata": {},
     "output_type": "execute_result"
    }
   ],
   "source": [
    "balanced_accuracy_score(bin_data_y_test, bin_target1_1)"
   ]
  },
  {
   "cell_type": "markdown",
   "metadata": {},
   "source": [
    "#### 2) Матрица ошибок или Confusion Matrix"
   ]
  },
  {
   "cell_type": "code",
   "execution_count": 29,
   "metadata": {},
   "outputs": [
    {
     "data": {
      "text/plain": [
       "array([[40, 10],\n",
       "       [ 0, 10]], dtype=int64)"
      ]
     },
     "execution_count": 29,
     "metadata": {},
     "output_type": "execute_result"
    }
   ],
   "source": [
    "from sklearn.metrics import confusion_matrix\n",
    "confusion_matrix(bin_data_y_test, bin_target1_1, labels=[0, 1])"
   ]
  },
  {
   "cell_type": "code",
   "execution_count": 30,
   "metadata": {},
   "outputs": [
    {
     "data": {
      "text/plain": [
       "(40, 10, 0, 10)"
      ]
     },
     "execution_count": 30,
     "metadata": {},
     "output_type": "execute_result"
    }
   ],
   "source": [
    "tn, fp, fn, tp = confusion_matrix(bin_data_y_test, bin_target1_1).ravel()\n",
    "tn, fp, fn, tp"
   ]
  },
  {
   "cell_type": "code",
   "execution_count": 31,
   "metadata": {},
   "outputs": [
    {
     "data": {
      "text/plain": [
       "array([[ 9,  0,  0,  0,  0,  0],\n",
       "       [ 0,  9,  0,  0,  0,  0],\n",
       "       [ 0,  0, 10,  0,  0,  0],\n",
       "       [ 0,  0,  9,  2,  3,  0],\n",
       "       [ 0,  0,  0,  0,  6,  0],\n",
       "       [ 0,  0,  1,  0,  3,  8]], dtype=int64)"
      ]
     },
     "execution_count": 31,
     "metadata": {},
     "output_type": "execute_result"
    }
   ],
   "source": [
    "# Пример для небинарной классификации\n",
    "confusion_matrix(data_y_test, target1_1, labels=[0, 1, 2, 3, 4, 5])"
   ]
  },
  {
   "cell_type": "code",
   "execution_count": 41,
   "metadata": {},
   "outputs": [
    {
     "data": {
      "text/plain": [
       "<sklearn.metrics._plot.confusion_matrix.ConfusionMatrixDisplay at 0x59dbfa0>"
      ]
     },
     "execution_count": 41,
     "metadata": {},
     "output_type": "execute_result"
    },
    {
     "data": {
      "image/png": "[encoded data removed]",
      "text/plain": [
       "<Figure size 432x288 with 2 Axes>"
      ]
     },
     "metadata": {
      "needs_background": "light"
     },
     "output_type": "display_data"
    }
   ],
   "source": [
    "from sklearn.metrics import plot_confusion_matrix\n",
    "plot_confusion_matrix(cl1_1, data_test, data_y_test, \n",
    "                       cmap=plt.cm.Blues)"
   ]
  },
  {
   "cell_type": "code",
   "execution_count": 42,
   "metadata": {},
   "outputs": [
    {
     "data": {
      "text/plain": [
       "<sklearn.metrics._plot.confusion_matrix.ConfusionMatrixDisplay at 0xcbae910>"
      ]
     },
     "execution_count": 42,
     "metadata": {},
     "output_type": "execute_result"
    },
    {
     "data": {
      "image/png": "[encoded data removed]",
      "text/plain": [
       "<Figure size 432x288 with 2 Axes>"
      ]
     },
     "metadata": {
      "needs_background": "light"
     },
     "output_type": "display_data"
    }
   ],
   "source": [
    "plot_confusion_matrix(cl1_1, data_test, data_y_test,  \n",
    "                      cmap=plt.cm.Blues, normalize='true')"
   ]
  },
  {
   "cell_type": "markdown",
   "metadata": {},
   "source": [
    "#### 3) Precision, recall и F-мера"
   ]
  },
  {
   "cell_type": "code",
   "execution_count": 45,
   "metadata": {},
   "outputs": [
    {
     "data": {
      "text/plain": [
       "(0.5, 1.0)"
      ]
     },
     "execution_count": 45,
     "metadata": {},
     "output_type": "execute_result"
    }
   ],
   "source": [
    "from sklearn.metrics import precision_score, recall_score, f1_score, classification_report\n",
    "# По умолчанию метрики считаются для 1 класса бинарной классификации\n",
    "precision_score(bin_data_y_test, bin_target1_1), recall_score(bin_data_y_test, bin_target1_1)"
   ]
  },
  {
   "cell_type": "code",
   "execution_count": 46,
   "metadata": {},
   "outputs": [
    {
     "data": {
      "text/plain": [
       "0.7333333333333333"
      ]
     },
     "execution_count": 46,
     "metadata": {},
     "output_type": "execute_result"
    }
   ],
   "source": [
    "# Параметры TP, TN, FP, FN считаются как сумма по всем классам\n",
    "precision_score(data_y_test, target1_1, average='micro')"
   ]
  },
  {
   "cell_type": "code",
   "execution_count": 47,
   "metadata": {},
   "outputs": [
    {
     "data": {
      "text/plain": [
       "0.8333333333333334"
      ]
     },
     "execution_count": 47,
     "metadata": {},
     "output_type": "execute_result"
    }
   ],
   "source": [
    "# Параметры TP, TN, FP, FN считаются отдельно для каждого класса \n",
    "# и берется среднее значение, дисбаланс классов не учитывается.\n",
    "precision_score(data_y_test, target1_1, average='macro')"
   ]
  },
  {
   "cell_type": "code",
   "execution_count": 48,
   "metadata": {},
   "outputs": [
    {
     "data": {
      "text/plain": [
       "0.8666666666666667"
      ]
     },
     "execution_count": 48,
     "metadata": {},
     "output_type": "execute_result"
    }
   ],
   "source": [
    "# Параметры TP, TN, FP, FN считаются отдельно для каждого класса \n",
    "# и берется средневзвешенное значение, дисбаланс классов учитывается \n",
    "# в виде веса классов (вес - количество истинных значений каждого класса).\n",
    "precision_score(data_y_test, target1_1, average='weighted')"
   ]
  },
  {
   "cell_type": "code",
   "execution_count": 49,
   "metadata": {},
   "outputs": [
    {
     "data": {
      "text/plain": [
       "0.6666666666666666"
      ]
     },
     "execution_count": 49,
     "metadata": {},
     "output_type": "execute_result"
    }
   ],
   "source": [
    "f1_score(bin_data_y_test, bin_target1_1)"
   ]
  },
  {
   "cell_type": "code",
   "execution_count": 50,
   "metadata": {},
   "outputs": [
    {
     "data": {
      "text/plain": [
       "0.7333333333333333"
      ]
     },
     "execution_count": 50,
     "metadata": {},
     "output_type": "execute_result"
    }
   ],
   "source": [
    "f1_score(data_y_test, target1_1, average='micro')"
   ]
  },
  {
   "cell_type": "code",
   "execution_count": 51,
   "metadata": {},
   "outputs": [
    {
     "data": {
      "text/plain": [
       "0.7305555555555555"
      ]
     },
     "execution_count": 51,
     "metadata": {},
     "output_type": "execute_result"
    }
   ],
   "source": [
    "f1_score(data_y_test, target1_1, average='macro')"
   ]
  },
  {
   "cell_type": "code",
   "execution_count": 52,
   "metadata": {},
   "outputs": [
    {
     "data": {
      "text/plain": [
       "0.6961111111111111"
      ]
     },
     "execution_count": 52,
     "metadata": {},
     "output_type": "execute_result"
    }
   ],
   "source": [
    "f1_score(data_y_test, target1_1, average='weighted')"
   ]
  },
  {
   "cell_type": "code",
   "execution_count": 53,
   "metadata": {},
   "outputs": [
    {
     "data": {
      "text/plain": [
       "{'0': {'precision': 1.0, 'recall': 1.0, 'f1-score': 1.0, 'support': 9},\n",
       " '1': {'precision': 1.0, 'recall': 1.0, 'f1-score': 1.0, 'support': 9},\n",
       " '2': {'precision': 0.5,\n",
       "  'recall': 1.0,\n",
       "  'f1-score': 0.6666666666666666,\n",
       "  'support': 10},\n",
       " '3': {'precision': 1.0,\n",
       "  'recall': 0.14285714285714285,\n",
       "  'f1-score': 0.25,\n",
       "  'support': 14},\n",
       " '4': {'precision': 0.5,\n",
       "  'recall': 1.0,\n",
       "  'f1-score': 0.6666666666666666,\n",
       "  'support': 6},\n",
       " '5': {'precision': 1.0,\n",
       "  'recall': 0.6666666666666666,\n",
       "  'f1-score': 0.8,\n",
       "  'support': 12},\n",
       " 'accuracy': 0.7333333333333333,\n",
       " 'macro avg': {'precision': 0.8333333333333334,\n",
       "  'recall': 0.8015873015873015,\n",
       "  'f1-score': 0.7305555555555555,\n",
       "  'support': 60},\n",
       " 'weighted avg': {'precision': 0.8666666666666667,\n",
       "  'recall': 0.7333333333333333,\n",
       "  'f1-score': 0.6961111111111111,\n",
       "  'support': 60}}"
      ]
     },
     "execution_count": 53,
     "metadata": {},
     "output_type": "execute_result"
    }
   ],
   "source": [
    "# Функция classification_report позволяет выводить значения точности, полноты и F-меры для всех классов выборки.\n",
    "classification_report(data_y_test, target1_1, \n",
    "                       output_dict=True)"
   ]
  },
  {
   "cell_type": "markdown",
   "metadata": {},
   "source": [
    "#### 4) ROC-кривая и ROC AUC"
   ]
  },
  {
   "cell_type": "code",
   "execution_count": 54,
   "metadata": {},
   "outputs": [
    {
     "data": {
      "text/plain": [
       "array([0, 0, 1, 0, 0, 0, 0, 1, 0, 1, 0, 0, 0, 1, 1, 0, 0, 0, 1, 0, 0, 0,\n",
       "       0, 0, 0, 0, 0, 0, 1, 1, 1, 0, 1, 1, 0, 1, 0, 0, 0, 0, 0, 1, 0, 1,\n",
       "       0, 1, 0, 0, 0, 0, 0, 0, 1, 0, 1, 1, 0, 0, 0, 0])"
      ]
     },
     "execution_count": 54,
     "metadata": {},
     "output_type": "execute_result"
    }
   ],
   "source": [
    "# Обучим модели на задаче бинарной классифкации, \n",
    "# чтобы получить вероятности классов\n",
    "\n",
    "# 10 ближайших соседа\n",
    "bin_cl1_1 = KNeighborsClassifier(n_neighbors=10)\n",
    "bin_cl1_1.fit(data_train, bin_data_y_train)\n",
    "# предскажем метки классов\n",
    "bin_cl1_1.predict(data_test)"
   ]
  },
  {
   "cell_type": "code",
   "execution_count": 55,
   "metadata": {},
   "outputs": [
    {
     "data": {
      "text/plain": [
       "array([0, 1])"
      ]
     },
     "execution_count": 55,
     "metadata": {},
     "output_type": "execute_result"
    }
   ],
   "source": [
    "# Классы возвращаются в следующем порядке\n",
    "bin_cl1_1.classes_"
   ]
  },
  {
   "cell_type": "code",
   "execution_count": 56,
   "metadata": {},
   "outputs": [
    {
     "data": {
      "text/plain": [
       "(60,\n",
       " array([[1. , 0. ],\n",
       "        [1. , 0. ],\n",
       "        [0.4, 0.6],\n",
       "        [1. , 0. ],\n",
       "        [1. , 0. ],\n",
       "        [1. , 0. ],\n",
       "        [0.5, 0.5],\n",
       "        [0.4, 0.6],\n",
       "        [1. , 0. ],\n",
       "        [0.4, 0.6],\n",
       "        [1. , 0. ],\n",
       "        [1. , 0. ],\n",
       "        [1. , 0. ],\n",
       "        [0.4, 0.6],\n",
       "        [0. , 1. ],\n",
       "        [1. , 0. ],\n",
       "        [1. , 0. ],\n",
       "        [1. , 0. ],\n",
       "        [0.4, 0.6],\n",
       "        [1. , 0. ],\n",
       "        [1. , 0. ],\n",
       "        [1. , 0. ],\n",
       "        [1. , 0. ],\n",
       "        [1. , 0. ],\n",
       "        [1. , 0. ],\n",
       "        [1. , 0. ],\n",
       "        [1. , 0. ],\n",
       "        [1. , 0. ],\n",
       "        [0.4, 0.6],\n",
       "        [0. , 1. ],\n",
       "        [0.1, 0.9],\n",
       "        [1. , 0. ],\n",
       "        [0. , 1. ],\n",
       "        [0. , 1. ],\n",
       "        [1. , 0. ],\n",
       "        [0.4, 0.6],\n",
       "        [1. , 0. ],\n",
       "        [1. , 0. ],\n",
       "        [1. , 0. ],\n",
       "        [0.8, 0.2],\n",
       "        [1. , 0. ],\n",
       "        [0.4, 0.6],\n",
       "        [1. , 0. ],\n",
       "        [0.2, 0.8],\n",
       "        [1. , 0. ],\n",
       "        [0.2, 0.8],\n",
       "        [1. , 0. ],\n",
       "        [0.5, 0.5],\n",
       "        [1. , 0. ],\n",
       "        [1. , 0. ],\n",
       "        [1. , 0. ],\n",
       "        [1. , 0. ],\n",
       "        [0.3, 0.7],\n",
       "        [1. , 0. ],\n",
       "        [0.4, 0.6],\n",
       "        [0.4, 0.6],\n",
       "        [1. , 0. ],\n",
       "        [1. , 0. ],\n",
       "        [1. , 0. ],\n",
       "        [1. , 0. ]]))"
      ]
     },
     "execution_count": 56,
     "metadata": {},
     "output_type": "execute_result"
    }
   ],
   "source": [
    "# предскажем вероятности классов\n",
    "proba_target1_1 = bin_cl1_1.predict_proba(data_test)\n",
    "len(proba_target1_1), proba_target1_1"
   ]
  },
  {
   "cell_type": "code",
   "execution_count": 57,
   "metadata": {},
   "outputs": [
    {
     "data": {
      "text/plain": [
       "array([0. , 0. , 0.6, 0. , 0. , 0. , 0.5, 0.6, 0. , 0.6, 0. , 0. , 0. ,\n",
       "       0.6, 1. , 0. , 0. , 0. , 0.6, 0. , 0. , 0. , 0. , 0. , 0. , 0. ,\n",
       "       0. , 0. , 0.6, 1. , 0.9, 0. , 1. , 1. , 0. , 0.6, 0. , 0. , 0. ,\n",
       "       0.2, 0. , 0.6, 0. , 0.8, 0. , 0.8, 0. , 0.5, 0. , 0. , 0. , 0. ,\n",
       "       0.7, 0. , 0.6, 0.6, 0. , 0. , 0. , 0. ])"
      ]
     },
     "execution_count": 57,
     "metadata": {},
     "output_type": "execute_result"
    }
   ],
   "source": [
    "# вероятность единичного (истинного) класса\n",
    "true_proba_target1_1 = proba_target1_1[:,1]\n",
    "true_proba_target1_1"
   ]
  },
  {
   "cell_type": "code",
   "execution_count": 58,
   "metadata": {},
   "outputs": [
    {
     "data": {
      "text/plain": [
       "(array([0.  , 0.  , 0.  , 0.04, 0.04, 0.18, 0.2 , 0.22, 1.  ]),\n",
       " array([0. , 0.4, 0.5, 0.5, 0.6, 0.9, 1. , 1. , 1. ]),\n",
       " array([2. , 1. , 0.9, 0.8, 0.7, 0.6, 0.5, 0.2, 0. ]))"
      ]
     },
     "execution_count": 58,
     "metadata": {},
     "output_type": "execute_result"
    }
   ],
   "source": [
    "from sklearn.metrics import roc_curve, roc_auc_score\n",
    "fpr, tpr, thresholds = roc_curve(bin_data_y_test, true_proba_target1_1, \n",
    "                                 pos_label=1)\n",
    "fpr, tpr, thresholds"
   ]
  },
  {
   "cell_type": "code",
   "execution_count": 59,
   "metadata": {},
   "outputs": [],
   "source": [
    "# Отрисовка ROC-кривой\n",
    "def draw_roc_curve(y_true, y_score, pos_label, average):\n",
    "    fpr, tpr, thresholds = roc_curve(y_true, y_score, \n",
    "                                     pos_label=pos_label)\n",
    "    roc_auc_value = roc_auc_score(y_true, y_score, average=average)\n",
    "    plt.figure()\n",
    "    lw = 2\n",
    "    plt.plot(fpr, tpr, color='darkorange',\n",
    "             lw=lw, label='ROC curve (area = %0.2f)' % roc_auc_value)\n",
    "    plt.plot([0, 1], [0, 1], color='navy', lw=lw, linestyle='--')\n",
    "    plt.xlim([0.0, 1.0])\n",
    "    plt.ylim([0.0, 1.05])\n",
    "    plt.xlabel('False Positive Rate')\n",
    "    plt.ylabel('True Positive Rate')\n",
    "    plt.title('Receiver operating characteristic example')\n",
    "    plt.legend(loc=\"lower right\")\n",
    "    plt.show()"
   ]
  },
  {
   "cell_type": "code",
   "execution_count": 60,
   "metadata": {},
   "outputs": [
    {
     "data": {
      "image/png": "[encoded data removed]",
      "text/plain": [
       "<Figure size 432x288 with 1 Axes>"
      ]
     },
     "metadata": {
      "needs_background": "light"
     },
     "output_type": "display_data"
    }
   ],
   "source": [
    "# Для 10 ближайших соседей\n",
    "draw_roc_curve(bin_data_y_test, bin_target1_1, pos_label=1, average='micro')"
   ]
  },
  {
   "cell_type": "markdown",
   "metadata": {},
   "source": [
    "### Оптимизация гиперпараметров"
   ]
  },
  {
   "cell_type": "code",
   "execution_count": 61,
   "metadata": {},
   "outputs": [
    {
     "data": {
      "text/plain": [
       "[{'n_neighbors': array([ 5, 10, 15, 20, 25, 30, 35, 40, 45, 50])}]"
      ]
     },
     "execution_count": 61,
     "metadata": {},
     "output_type": "execute_result"
    }
   ],
   "source": [
    "#Grid Search (решетчатый поиск)\n",
    "from sklearn.model_selection import GridSearchCV, RandomizedSearchCV\n",
    "\n",
    "n_range = np.array(range(5,55,5))\n",
    "tuned_parameters = [{'n_neighbors': n_range}]\n",
    "tuned_parameters"
   ]
  },
  {
   "cell_type": "code",
   "execution_count": 62,
   "metadata": {},
   "outputs": [
    {
     "data": {
      "text/plain": [
       "GridSearchCV(cv=5, estimator=KNeighborsClassifier(),\n",
       "             param_grid=[{'n_neighbors': array([ 5, 10, 15, 20, 25, 30, 35, 40, 45, 50])}],\n",
       "             scoring='accuracy')"
      ]
     },
     "execution_count": 62,
     "metadata": {},
     "output_type": "execute_result"
    }
   ],
   "source": [
    "clf_gs = GridSearchCV(KNeighborsClassifier(), tuned_parameters, cv=5, scoring='accuracy')\n",
    "clf_gs.fit(data_train, data_y_train)"
   ]
  },
  {
   "cell_type": "code",
   "execution_count": 63,
   "metadata": {},
   "outputs": [
    {
     "data": {
      "text/plain": [
       "{'mean_fit_time': array([0.00410161, 0.0046875 , 0.00390625, 0.00312505, 0.00312495,\n",
       "        0.003125  , 0.00625   , 0.        , 0.009375  , 0.        ]),\n",
       " 'std_fit_time': array([0.0003906 , 0.00039051, 0.00605154, 0.0062501 , 0.0062499 ,\n",
       "        0.00625   , 0.00765466, 0.        , 0.00765466, 0.        ]),\n",
       " 'mean_score_time': array([0.00546865, 0.00566406, 0.00742183, 0.00625   , 0.00625   ,\n",
       "        0.00625005, 0.00625   , 0.00625   , 0.        , 0.00625005]),\n",
       " 'std_score_time': array([0.00047834, 0.00039063, 0.00703119, 0.00765466, 0.00765466,\n",
       "        0.00765471, 0.00765466, 0.00765466, 0.        , 0.00765471]),\n",
       " 'param_n_neighbors': masked_array(data=[5, 10, 15, 20, 25, 30, 35, 40, 45, 50],\n",
       "              mask=[False, False, False, False, False, False, False, False,\n",
       "                    False, False],\n",
       "        fill_value='?',\n",
       "             dtype=object),\n",
       " 'params': [{'n_neighbors': 5},\n",
       "  {'n_neighbors': 10},\n",
       "  {'n_neighbors': 15},\n",
       "  {'n_neighbors': 20},\n",
       "  {'n_neighbors': 25},\n",
       "  {'n_neighbors': 30},\n",
       "  {'n_neighbors': 35},\n",
       "  {'n_neighbors': 40},\n",
       "  {'n_neighbors': 45},\n",
       "  {'n_neighbors': 50}],\n",
       " 'split0_test_score': array([0.88888889, 0.88888889, 0.75      , 0.75      , 0.75      ,\n",
       "        0.66666667, 0.63888889, 0.55555556, 0.55555556, 0.38888889]),\n",
       " 'split1_test_score': array([0.94444444, 0.91666667, 0.86111111, 0.86111111, 0.83333333,\n",
       "        0.75      , 0.72222222, 0.61111111, 0.63888889, 0.47222222]),\n",
       " 'split2_test_score': array([0.88888889, 0.83333333, 0.80555556, 0.77777778, 0.77777778,\n",
       "        0.77777778, 0.63888889, 0.61111111, 0.61111111, 0.41666667]),\n",
       " 'split3_test_score': array([0.94444444, 0.88888889, 0.86111111, 0.86111111, 0.69444444,\n",
       "        0.66666667, 0.66666667, 0.55555556, 0.61111111, 0.44444444]),\n",
       " 'split4_test_score': array([0.86111111, 0.83333333, 0.77777778, 0.77777778, 0.77777778,\n",
       "        0.75      , 0.72222222, 0.63888889, 0.63888889, 0.44444444]),\n",
       " 'mean_test_score': array([0.90555556, 0.87222222, 0.81111111, 0.80555556, 0.76666667,\n",
       "        0.72222222, 0.67777778, 0.59444444, 0.61111111, 0.43333333]),\n",
       " 'std_test_score': array([0.03333333, 0.03333333, 0.04444444, 0.04648111, 0.04513355,\n",
       "        0.04648111, 0.03767961, 0.03333333, 0.03042903, 0.02832789]),\n",
       " 'rank_test_score': array([ 1,  2,  3,  4,  5,  6,  7,  9,  8, 10])}"
      ]
     },
     "execution_count": 63,
     "metadata": {},
     "output_type": "execute_result"
    }
   ],
   "source": [
    "clf_gs.cv_results_"
   ]
  },
  {
   "cell_type": "code",
   "execution_count": 64,
   "metadata": {},
   "outputs": [
    {
     "data": {
      "text/plain": [
       "KNeighborsClassifier()"
      ]
     },
     "execution_count": 64,
     "metadata": {},
     "output_type": "execute_result"
    }
   ],
   "source": [
    "# Лучшая модель\n",
    "clf_gs.best_estimator_"
   ]
  },
  {
   "cell_type": "code",
   "execution_count": 65,
   "metadata": {},
   "outputs": [
    {
     "data": {
      "text/plain": [
       "0.9055555555555557"
      ]
     },
     "execution_count": 65,
     "metadata": {},
     "output_type": "execute_result"
    }
   ],
   "source": [
    "# Лучшее значение метрики\n",
    "clf_gs.best_score_"
   ]
  },
  {
   "cell_type": "code",
   "execution_count": 66,
   "metadata": {},
   "outputs": [
    {
     "data": {
      "text/plain": [
       "{'n_neighbors': 5}"
      ]
     },
     "execution_count": 66,
     "metadata": {},
     "output_type": "execute_result"
    }
   ],
   "source": [
    "# Лучшее значение параметров\n",
    "clf_gs.best_params_"
   ]
  },
  {
   "cell_type": "code",
   "execution_count": 67,
   "metadata": {},
   "outputs": [
    {
     "data": {
      "text/plain": [
       "[<matplotlib.lines.Line2D at 0x58b2e80>]"
      ]
     },
     "execution_count": 67,
     "metadata": {},
     "output_type": "execute_result"
    },
    {
     "data": {
      "image/png": "[encoded data removed]",
      "text/plain": [
       "<Figure size 432x288 with 1 Axes>"
      ]
     },
     "metadata": {
      "needs_background": "light"
     },
     "output_type": "display_data"
    }
   ],
   "source": [
    "# Изменение качества на тестовой выборке в зависимости от К-соседей\n",
    "plt.plot(n_range, clf_gs.cv_results_['mean_test_score'])"
   ]
  },
  {
   "cell_type": "code",
   "execution_count": 98,
   "metadata": {},
   "outputs": [],
   "source": [
    "#Кросс-валидация\n",
    "\n",
    "\n",
    "from sklearn.model_selection import cross_val_score, cross_validate\n",
    "from sklearn.model_selection import KFold, RepeatedKFold, LeaveOneOut, LeavePOut, ShuffleSplit, StratifiedKFold\n",
    "\n",
    "scores = cross_val_score(KNeighborsClassifier(n_neighbors=10), \n",
    "                         data, data['Type'], cv=3)"
   ]
  },
  {
   "cell_type": "code",
   "execution_count": 99,
   "metadata": {},
   "outputs": [
    {
     "data": {
      "text/plain": [
       "array([0.6  , 0.95 , 0.775])"
      ]
     },
     "execution_count": 99,
     "metadata": {},
     "output_type": "execute_result"
    }
   ],
   "source": [
    "# Значение метрики accuracy для 3 фолдов\n",
    "scores"
   ]
  },
  {
   "cell_type": "code",
   "execution_count": 100,
   "metadata": {},
   "outputs": [
    {
     "data": {
      "text/plain": [
       "0.7749999999999999"
      ]
     },
     "execution_count": 100,
     "metadata": {},
     "output_type": "execute_result"
    }
   ],
   "source": [
    "# Усредненное значение метрики accuracy для 3 фолдов\n",
    "np.mean(scores)"
   ]
  },
  {
   "cell_type": "code",
   "execution_count": 101,
   "metadata": {},
   "outputs": [
    {
     "data": {
      "text/plain": [
       "(array([0.74287722, 0.974947  , 0.75629596]), 0.8247067257040847)"
      ]
     },
     "execution_count": 101,
     "metadata": {},
     "output_type": "execute_result"
    }
   ],
   "source": [
    "# использование метрики f1\n",
    "# https://scikit-learn.org/stable/modules/model_evaluation.html\n",
    "scores = cross_val_score(KNeighborsClassifier(n_neighbors=2), \n",
    "                         data, data['Type'], cv=3,\n",
    "                        scoring='f1_weighted')\n",
    "scores, np.mean(scores)"
   ]
  },
  {
   "cell_type": "code",
   "execution_count": 102,
   "metadata": {},
   "outputs": [],
   "source": [
    "scoring = {'precision': 'precision_weighted', \n",
    "           'recall': 'recall_weighted',\n",
    "           'f1': 'f1_weighted'}"
   ]
  },
  {
   "cell_type": "code",
   "execution_count": 103,
   "metadata": {},
   "outputs": [
    {
     "name": "stderr",
     "output_type": "stream",
     "text": [
      "C:\\ProgramData\\Anaconda3\\lib\\site-packages\\sklearn\\metrics\\_classification.py:1221: UndefinedMetricWarning: Precision is ill-defined and being set to 0.0 in labels with no predicted samples. Use `zero_division` parameter to control this behavior.\n",
      "  _warn_prf(average, modifier, msg_start, len(result))\n"
     ]
    },
    {
     "data": {
      "text/plain": [
       "{'fit_time': array([0.01953149, 0.00390649, 0.00390625]),\n",
       " 'score_time': array([0.01074219, 0.01074219, 0.01269531]),\n",
       " 'test_precision': array([0.83113839, 0.97672619, 0.71177945]),\n",
       " 'train_precision': array([0.9879547 , 0.99397321, 0.98236607]),\n",
       " 'test_recall': array([0.775, 0.975, 0.825]),\n",
       " 'train_recall': array([0.9875 , 0.99375, 0.98125]),\n",
       " 'test_f1': array([0.74287722, 0.974947  , 0.75629596]),\n",
       " 'train_f1': array([0.9873754 , 0.99374786, 0.98123664])}"
      ]
     },
     "execution_count": 103,
     "metadata": {},
     "output_type": "execute_result"
    }
   ],
   "source": [
    "scores = cross_validate(KNeighborsClassifier(n_neighbors=2), \n",
    "                        data, data['Type'], scoring=scoring, \n",
    "                        cv=3, return_train_score=True)\n",
    "scores"
   ]
  },
  {
   "cell_type": "code",
   "execution_count": 104,
   "metadata": {},
   "outputs": [
    {
     "name": "stdout",
     "output_type": "stream",
     "text": [
      "[1 2] [0]\n",
      "[0 2] [1]\n",
      "[0 1] [2]\n"
     ]
    }
   ],
   "source": [
    "#K-fold стратегия\n",
    "\n",
    "# Возвращаются индексы элементов\n",
    "X = [\"a\", \"b\", \"c\"]\n",
    "kf = KFold(n_splits=3)\n",
    "for train, test in kf.split(X):\n",
    "    print(\"%s %s\" % (train, test))"
   ]
  },
  {
   "cell_type": "code",
   "execution_count": 105,
   "metadata": {},
   "outputs": [
    {
     "name": "stdout",
     "output_type": "stream",
     "text": [
      "[ 4  5  6  7  8  9 10 11] [0 1 2 3]\n",
      "[ 0  1  2  3  8  9 10 11] [4 5 6 7]\n",
      "[0 1 2 3 4 5 6 7] [ 8  9 10 11]\n"
     ]
    }
   ],
   "source": [
    "X = range(12)\n",
    "kf = KFold(n_splits=3)\n",
    "for train, test in kf.split(X):\n",
    "    print(\"%s %s\" % (train, test))"
   ]
  },
  {
   "cell_type": "code",
   "execution_count": 106,
   "metadata": {},
   "outputs": [
    {
     "data": {
      "text/plain": [
       "array([0.66610963, 0.93535923, 0.93320106, 0.84549297, 0.66911175])"
      ]
     },
     "execution_count": 106,
     "metadata": {},
     "output_type": "execute_result"
    }
   ],
   "source": [
    "kf = KFold(n_splits=5)\n",
    "scores = cross_val_score(KNeighborsClassifier(n_neighbors=10), \n",
    "                         data, data['Type'], scoring='f1_weighted', \n",
    "                         cv=kf)\n",
    "scores"
   ]
  },
  {
   "cell_type": "code",
   "execution_count": 107,
   "metadata": {},
   "outputs": [
    {
     "name": "stderr",
     "output_type": "stream",
     "text": [
      "C:\\ProgramData\\Anaconda3\\lib\\site-packages\\sklearn\\metrics\\_classification.py:1221: UndefinedMetricWarning: Recall is ill-defined and being set to 0.0 in labels with no true samples. Use `zero_division` parameter to control this behavior.\n",
      "  _warn_prf(average, modifier, msg_start, len(result))\n",
      "C:\\ProgramData\\Anaconda3\\lib\\site-packages\\sklearn\\metrics\\_classification.py:1221: UndefinedMetricWarning: Precision is ill-defined and being set to 0.0 in labels with no predicted samples. Use `zero_division` parameter to control this behavior.\n",
      "  _warn_prf(average, modifier, msg_start, len(result))\n"
     ]
    },
    {
     "data": {
      "text/plain": [
       "{'fit_time': array([0.00488305, 0.00292969, 0.00390625, 0.00390601, 0.00292969]),\n",
       " 'score_time': array([0.00976562, 0.00878882, 0.00976562, 0.00976586, 0.00976562]),\n",
       " 'test_precision': array([0.6765873 , 0.94560185, 0.94545455, 0.88034188, 0.61434195]),\n",
       " 'train_precision': array([0.92690296, 0.9452567 , 0.95053735, 0.90385353, 0.93225524]),\n",
       " 'test_recall': array([0.66666667, 0.9375    , 0.9375    , 0.85416667, 0.75      ]),\n",
       " 'train_recall': array([0.92708333, 0.94270833, 0.94270833, 0.890625  , 0.92708333]),\n",
       " 'test_f1': array([0.66610963, 0.93535923, 0.93320106, 0.84549297, 0.66911175]),\n",
       " 'train_f1': array([0.92629902, 0.94340139, 0.94256929, 0.88855018, 0.92632801])}"
      ]
     },
     "execution_count": 107,
     "metadata": {},
     "output_type": "execute_result"
    }
   ],
   "source": [
    "kf = KFold(n_splits=5)\n",
    "scores = cross_validate(KNeighborsClassifier(n_neighbors=10), \n",
    "                        data, data['Type'], scoring=scoring, \n",
    "                        cv=kf, return_train_score=True)\n",
    "scores"
   ]
  },
  {
   "cell_type": "code",
   "execution_count": 108,
   "metadata": {},
   "outputs": [
    {
     "name": "stdout",
     "output_type": "stream",
     "text": [
      "[ 1  3  4  5  7  9 10 11] [0 2 6 8]\n",
      "[ 0  1  2  3  5  6  8 11] [ 4  7  9 10]\n",
      "[ 0  2  4  6  7  8  9 10] [ 1  3  5 11]\n",
      "[ 0  1  2  3  4  5  8 10] [ 6  7  9 11]\n",
      "[ 1  3  6  7  8  9 10 11] [0 2 4 5]\n",
      "[ 0  2  4  5  6  7  9 11] [ 1  3  8 10]\n"
     ]
    }
   ],
   "source": [
    "# Repeated K-Fold\n",
    "\n",
    "X = range(12)\n",
    "kf = RepeatedKFold(n_splits=3, n_repeats=2)\n",
    "for train, test in kf.split(X):\n",
    "    print(\"%s %s\" % (train, test))"
   ]
  },
  {
   "cell_type": "code",
   "execution_count": 109,
   "metadata": {},
   "outputs": [
    {
     "data": {
      "text/plain": [
       "array([0.76027042, 0.82414917, 0.93600454, 0.88358626, 0.88692834,\n",
       "       0.85103383])"
      ]
     },
     "execution_count": 109,
     "metadata": {},
     "output_type": "execute_result"
    }
   ],
   "source": [
    "scores = cross_val_score(KNeighborsClassifier(n_neighbors=10), \n",
    "                         data, data['Type'], scoring='f1_weighted', \n",
    "                         cv=kf)\n",
    "scores"
   ]
  },
  {
   "cell_type": "code",
   "execution_count": 110,
   "metadata": {},
   "outputs": [
    {
     "data": {
      "text/plain": [
       "{'fit_time': array([0.00488281, 0.00390625, 0.00488305, 0.00488281, 0.00097656,\n",
       "        0.        ]),\n",
       " 'score_time': array([0.01171875, 0.01171851, 0.01171851, 0.01074219, 0.015625  ,\n",
       "        0.01660156]),\n",
       " 'test_precision': array([0.84418128, 0.89008406, 0.89824634, 0.8598622 , 0.85906433,\n",
       "        0.93508013]),\n",
       " 'train_precision': array([0.90068118, 0.9024158 , 0.88648583, 0.89560889, 0.89970313,\n",
       "        0.88260461]),\n",
       " 'test_recall': array([0.825 , 0.875 , 0.8875, 0.85  , 0.8375, 0.9125]),\n",
       " 'train_recall': array([0.8875 , 0.8875 , 0.875  , 0.875  , 0.8875 , 0.86875]),\n",
       " 'test_f1': array([0.8263694 , 0.87047711, 0.88599705, 0.84902273, 0.83546836,\n",
       "        0.91293949]),\n",
       " 'train_f1': array([0.88417521, 0.8852273 , 0.87272186, 0.87494423, 0.88561198,\n",
       "        0.86533013])}"
      ]
     },
     "execution_count": 110,
     "metadata": {},
     "output_type": "execute_result"
    }
   ],
   "source": [
    "scores = cross_validate(KNeighborsClassifier(n_neighbors=10), \n",
    "                        data, data['Type'], scoring=scoring, \n",
    "                        cv=kf, return_train_score=True)\n",
    "scores"
   ]
  },
  {
   "cell_type": "code",
   "execution_count": 111,
   "metadata": {},
   "outputs": [
    {
     "name": "stdout",
     "output_type": "stream",
     "text": [
      "[ 1  2  3  4  5  6  7  8  9 10 11] [0]\n",
      "[ 0  2  3  4  5  6  7  8  9 10 11] [1]\n",
      "[ 0  1  3  4  5  6  7  8  9 10 11] [2]\n",
      "[ 0  1  2  4  5  6  7  8  9 10 11] [3]\n",
      "[ 0  1  2  3  5  6  7  8  9 10 11] [4]\n",
      "[ 0  1  2  3  4  6  7  8  9 10 11] [5]\n",
      "[ 0  1  2  3  4  5  7  8  9 10 11] [6]\n",
      "[ 0  1  2  3  4  5  6  8  9 10 11] [7]\n",
      "[ 0  1  2  3  4  5  6  7  9 10 11] [8]\n",
      "[ 0  1  2  3  4  5  6  7  8 10 11] [9]\n",
      "[ 0  1  2  3  4  5  6  7  8  9 11] [10]\n",
      "[ 0  1  2  3  4  5  6  7  8  9 10] [11]\n"
     ]
    }
   ],
   "source": [
    "# Leave One Out (LOO)\n",
    "\n",
    "\n",
    "X = range(12)\n",
    "# Эквивалент KFold(n_splits=n)\n",
    "kf = LeaveOneOut()\n",
    "for train, test in kf.split(X):\n",
    "    print(\"%s %s\" % (train, test))"
   ]
  },
  {
   "cell_type": "code",
   "execution_count": 112,
   "metadata": {},
   "outputs": [
    {
     "name": "stdout",
     "output_type": "stream",
     "text": [
      "[11  1  7  5 10  3  4  8  9] [6 2 0]\n",
      "[ 7  8 10  3  2  9 11  5  0] [6 4 1]\n",
      "[ 5  0  9 11  1  2  3  7  4] [ 8 10  6]\n",
      "[ 7 10  6  3  8  1  5  4  2] [ 0  9 11]\n",
      "[10  0  7  1  6  8  2 11  4] [3 5 9]\n"
     ]
    }
   ],
   "source": [
    "# ShuffleSplit\n",
    "\n",
    "X = range(12)\n",
    "# Эквивалент KFold(n_splits=n)\n",
    "kf = ShuffleSplit(n_splits=5, test_size=0.25)\n",
    "for train, test in kf.split(X):\n",
    "    print(\"%s %s\" % (train, test))"
   ]
  },
  {
   "cell_type": "code",
   "execution_count": null,
   "metadata": {},
   "outputs": [],
   "source": [
    " "
   ]
  }
 ],
 "metadata": {
  "kernelspec": {
   "display_name": "Python 3",
   "language": "python",
   "name": "python3"
  },
  "language_info": {
   "codemirror_mode": {
    "name": "ipython",
    "version": 3
   },
   "file_extension": ".py",
   "mimetype": "text/x-python",
   "name": "python",
   "nbconvert_exporter": "python",
   "pygments_lexer": "ipython3",
   "version": "3.8.5"
  }
 },
 "nbformat": 4,
 "nbformat_minor": 5
}
